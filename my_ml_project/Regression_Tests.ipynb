{
 "cells": [
  {
   "cell_type": "markdown",
   "id": "e438eead",
   "metadata": {},
   "source": [
    "### Linear Regression Test"
   ]
  },
  {
   "cell_type": "markdown",
   "id": "e6c6f3c6",
   "metadata": {},
   "source": [
    "Imports"
   ]
  },
  {
   "cell_type": "code",
   "execution_count": 9,
   "id": "c3284ea9",
   "metadata": {},
   "outputs": [],
   "source": [
    "import numpy as np\n",
    "import matplotlib.pyplot as plt\n",
    "from linear_regression import lin_reg"
   ]
  },
  {
   "cell_type": "markdown",
   "id": "6c97db77",
   "metadata": {},
   "source": [
    "Data"
   ]
  },
  {
   "cell_type": "code",
   "execution_count": 10,
   "id": "1f7d0a67",
   "metadata": {},
   "outputs": [],
   "source": [
    "x = [0.1,0.4,0.7,0.7,0.8,0.5,0.4,0.3,0.5,0.6]\n",
    "y = [0.3, 0.3, 0.6, 0.2, 0.7, 0.9, 0.6, 0.8, 0.4, 0.2]\n"
   ]
  },
  {
   "cell_type": "markdown",
   "id": "eb1c9989",
   "metadata": {},
   "source": [
    "Implementing Linear Regression"
   ]
  },
  {
   "cell_type": "code",
   "execution_count": 11,
   "id": "1a992649",
   "metadata": {},
   "outputs": [
    {
     "data": {
      "image/png": "[encoded data removed]",
      "text/plain": [
       "<Figure size 432x288 with 1 Axes>"
      ]
     },
     "metadata": {
      "needs_background": "light"
     },
     "output_type": "display_data"
    }
   ],
   "source": [
    "lin_reg(x,y)"
   ]
  },
  {
   "cell_type": "code",
   "execution_count": null,
   "id": "6e6dbef3",
   "metadata": {},
   "outputs": [],
   "source": []
  }
 ],
 "metadata": {
  "kernelspec": {
   "display_name": "Python 3",
   "language": "python",
   "name": "python3"
  },
  "language_info": {
   "codemirror_mode": {
    "name": "ipython",
    "version": 3
   },
   "file_extension": ".py",
   "mimetype": "text/x-python",
   "name": "python",
   "nbconvert_exporter": "python",
   "pygments_lexer": "ipython3",
   "version": "3.8.0"
  }
 },
 "nbformat": 4,
 "nbformat_minor": 5
}
