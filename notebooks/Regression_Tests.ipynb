{
 "cells": [
  {
   "cell_type": "markdown",
   "id": "e0ed6e7c",
   "metadata": {},
   "source": [
    "### Linear Regression Test"
   ]
  },
  {
   "cell_type": "markdown",
   "id": "41b6294b",
   "metadata": {},
   "source": [
    "Imports"
   ]
  },
  {
   "cell_type": "code",
   "execution_count": 1,
   "id": "eaa3349d",
   "metadata": {},
   "outputs": [],
   "source": [
    "import numpy as np\n",
    "import matplotlib.pyplot as plt\n",
    "#from my_ml_project.linear_regression_joycelyn import lin_reg, predict_linear\n",
    "from my_ml_project.linear_regression_joycelyn import LinearRegression\n",
    "#from my_ml_project.non_linear_regression import non_lin_reg, predict"
   ]
  },
  {
   "cell_type": "markdown",
   "id": "4c4d7d1b",
   "metadata": {},
   "source": [
    "Data"
   ]
  },
  {
   "cell_type": "code",
   "execution_count": 2,
   "id": "62dc86cc",
   "metadata": {},
   "outputs": [],
   "source": [
    "x = [0.1,0.4,0.7,0.7,0.8,0.5,0.4,0.3,0.5,0.6]\n",
    "y = [0.3, 0.3, 0.6, 0.2, 0.7, 0.9, 0.6, 0.8, 0.4, 0.2]\n"
   ]
  },
  {
   "cell_type": "markdown",
   "id": "c4a34c02",
   "metadata": {},
   "source": [
    "Implementing Linear Regression"
   ]
  },
  {
   "cell_type": "code",
   "execution_count": null,
   "id": "7bba4879",
   "metadata": {},
   "outputs": [],
   "source": [
    "model = LinearRegression()\n",
    "w = model.fit (x,y)\n",
    "x_pred = np.linspace(0, 1, 100)  # 100 points equispaced between 0 and 1\n",
    "y_pred = model.predict(x_pred)\n",
    "\n",
    "plt.scatter(x, y, marker=\"x\", color=\"red\")  # plot model predictions\n",
    "plt.plot(x_pred, y_pred, color=\"black\")  # plot dataset\n",
    "\n",
    "plt.show()"
   ]
  },
  {
   "cell_type": "code",
   "execution_count": null,
   "id": "7efe5bd6",
   "metadata": {},
   "outputs": [],
   "source": [
    "# python -m pdb test_lin_regression.py  # pdb.set_trce()"
   ]
  },
  {
   "cell_type": "markdown",
   "id": "3921eb46",
   "metadata": {},
   "source": [
    "### Non-Linear Regression Test"
   ]
  },
  {
   "cell_type": "markdown",
   "id": "c9d88bc1",
   "metadata": {},
   "source": [
    "Data"
   ]
  },
  {
   "cell_type": "code",
   "execution_count": null,
   "id": "f25d3948",
   "metadata": {},
   "outputs": [],
   "source": [
    "x_nonlin = x\n",
    "y_nonlin = y"
   ]
  },
  {
   "cell_type": "code",
   "execution_count": null,
   "id": "839bd7e1",
   "metadata": {},
   "outputs": [],
   "source": [
    "w = non_lin_reg(x, y)"
   ]
  },
  {
   "cell_type": "code",
   "execution_count": null,
   "id": "d86560e0",
   "metadata": {},
   "outputs": [],
   "source": [
    "x_pred = np.linspace(0, 1, 100)  # 100 points equispaced between 0 and 1\n",
    "\n",
    "# output of the model at the points above\n",
    "y_pred = predict(x_pred, w)\n",
    "\n",
    "\n",
    "plt.scatter(x_nonlin, y_nonlin, marker=\"x\", color=\"red\")  # plot model predictions\n",
    "plt.plot(x_pred, y_pred, color=\"black\")  # plot dataset\n",
    "\n",
    "plt.show()"
   ]
  },
  {
   "cell_type": "code",
   "execution_count": null,
   "id": "78b7149d",
   "metadata": {},
   "outputs": [],
   "source": []
  }
 ],
 "metadata": {
  "kernelspec": {
   "display_name": "Python 3",
   "language": "python",
   "name": "python3"
  },
  "language_info": {
   "codemirror_mode": {
    "name": "ipython",
    "version": 3
   },
   "file_extension": ".py",
   "mimetype": "text/x-python",
   "name": "python",
   "nbconvert_exporter": "python",
   "pygments_lexer": "ipython3",
   "version": "3.8.0"
  }
 },
 "nbformat": 4,
 "nbformat_minor": 5
}
